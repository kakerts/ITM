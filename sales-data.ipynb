{
 "cells": [
  {
   "cell_type": "code",
   "execution_count": 1,
   "id": "d87e4e2f-283c-4e6d-a266-5e07e92649ab",
   "metadata": {},
   "outputs": [
    {
     "data": {
      "text/html": [
       "<div>\n",
       "<style scoped>\n",
       "    .dataframe tbody tr th:only-of-type {\n",
       "        vertical-align: middle;\n",
       "    }\n",
       "\n",
       "    .dataframe tbody tr th {\n",
       "        vertical-align: top;\n",
       "    }\n",
       "\n",
       "    .dataframe thead th {\n",
       "        text-align: right;\n",
       "    }\n",
       "</style>\n",
       "<table border=\"1\" class=\"dataframe\">\n",
       "  <thead>\n",
       "    <tr style=\"text-align: right;\">\n",
       "      <th></th>\n",
       "      <th>invoice_no</th>\n",
       "      <th>customer_id</th>\n",
       "      <th>category</th>\n",
       "      <th>quantity</th>\n",
       "      <th>price</th>\n",
       "      <th>payment_method</th>\n",
       "      <th>invoice_date</th>\n",
       "      <th>shopping_mall</th>\n",
       "    </tr>\n",
       "  </thead>\n",
       "  <tbody>\n",
       "    <tr>\n",
       "      <th>0</th>\n",
       "      <td>I138884</td>\n",
       "      <td>229</td>\n",
       "      <td>Clothing</td>\n",
       "      <td>5</td>\n",
       "      <td>1500.40</td>\n",
       "      <td>Credit Card</td>\n",
       "      <td>5/8/2022</td>\n",
       "      <td>Kanyon</td>\n",
       "    </tr>\n",
       "    <tr>\n",
       "      <th>1</th>\n",
       "      <td>I317333</td>\n",
       "      <td>3433</td>\n",
       "      <td>Shoes</td>\n",
       "      <td>3</td>\n",
       "      <td>1800.51</td>\n",
       "      <td>Debit Card</td>\n",
       "      <td>12/12/2021</td>\n",
       "      <td>Forum Istanbul</td>\n",
       "    </tr>\n",
       "    <tr>\n",
       "      <th>2</th>\n",
       "      <td>I127801</td>\n",
       "      <td>644</td>\n",
       "      <td>Clothing</td>\n",
       "      <td>1</td>\n",
       "      <td>300.08</td>\n",
       "      <td>Cash</td>\n",
       "      <td>9/11/2021</td>\n",
       "      <td>Metrocity</td>\n",
       "    </tr>\n",
       "    <tr>\n",
       "      <th>3</th>\n",
       "      <td>I173702</td>\n",
       "      <td>4900</td>\n",
       "      <td>Shoes</td>\n",
       "      <td>5</td>\n",
       "      <td>3000.85</td>\n",
       "      <td>Credit Card</td>\n",
       "      <td>16/05/2021</td>\n",
       "      <td>Metropol AVM</td>\n",
       "    </tr>\n",
       "    <tr>\n",
       "      <th>4</th>\n",
       "      <td>I337046</td>\n",
       "      <td>1089</td>\n",
       "      <td>Books</td>\n",
       "      <td>4</td>\n",
       "      <td>60.60</td>\n",
       "      <td>Cash</td>\n",
       "      <td>24/10/2021</td>\n",
       "      <td>Kanyon</td>\n",
       "    </tr>\n",
       "  </tbody>\n",
       "</table>\n",
       "</div>"
      ],
      "text/plain": [
       "  invoice_no  customer_id  category  quantity    price payment_method  \\\n",
       "0    I138884          229  Clothing         5  1500.40    Credit Card   \n",
       "1    I317333         3433     Shoes         3  1800.51     Debit Card   \n",
       "2    I127801          644  Clothing         1   300.08           Cash   \n",
       "3    I173702         4900     Shoes         5  3000.85    Credit Card   \n",
       "4    I337046         1089     Books         4    60.60           Cash   \n",
       "\n",
       "  invoice_date   shopping_mall  \n",
       "0     5/8/2022          Kanyon  \n",
       "1   12/12/2021  Forum Istanbul  \n",
       "2    9/11/2021       Metrocity  \n",
       "3   16/05/2021    Metropol AVM  \n",
       "4   24/10/2021          Kanyon  "
      ]
     },
     "execution_count": 1,
     "metadata": {},
     "output_type": "execute_result"
    }
   ],
   "source": [
    "import pandas as pd\n",
    "invoice_df = pd.read_csv('Downloads/fct_invoice.csv')\n",
    "customer_df = pd.read_json('Downloads/dim_customer.json')\n",
    "\n",
    "invoice_df.head() "
   ]
  },
  {
   "cell_type": "code",
   "execution_count": 2,
   "id": "a8d436d8-b7cf-4176-8bb9-7c8f3fba4bf2",
   "metadata": {},
   "outputs": [
    {
     "data": {
      "text/html": [
       "<div>\n",
       "<style scoped>\n",
       "    .dataframe tbody tr th:only-of-type {\n",
       "        vertical-align: middle;\n",
       "    }\n",
       "\n",
       "    .dataframe tbody tr th {\n",
       "        vertical-align: top;\n",
       "    }\n",
       "\n",
       "    .dataframe thead th {\n",
       "        text-align: right;\n",
       "    }\n",
       "</style>\n",
       "<table border=\"1\" class=\"dataframe\">\n",
       "  <thead>\n",
       "    <tr style=\"text-align: right;\">\n",
       "      <th></th>\n",
       "      <th>age</th>\n",
       "      <th>first_name</th>\n",
       "      <th>gender</th>\n",
       "      <th>id</th>\n",
       "      <th>last_name</th>\n",
       "    </tr>\n",
       "  </thead>\n",
       "  <tbody>\n",
       "    <tr>\n",
       "      <th>0</th>\n",
       "      <td>48.0</td>\n",
       "      <td>Nicholas</td>\n",
       "      <td>M</td>\n",
       "      <td>0</td>\n",
       "      <td>Flores</td>\n",
       "    </tr>\n",
       "    <tr>\n",
       "      <th>1</th>\n",
       "      <td>NaN</td>\n",
       "      <td>Jeffery</td>\n",
       "      <td>M</td>\n",
       "      <td>1</td>\n",
       "      <td>Rowe</td>\n",
       "    </tr>\n",
       "    <tr>\n",
       "      <th>2</th>\n",
       "      <td>57.0</td>\n",
       "      <td>Alexis</td>\n",
       "      <td>F</td>\n",
       "      <td>2</td>\n",
       "      <td>Benton</td>\n",
       "    </tr>\n",
       "    <tr>\n",
       "      <th>3</th>\n",
       "      <td>73.0</td>\n",
       "      <td>Amy</td>\n",
       "      <td>F</td>\n",
       "      <td>3</td>\n",
       "      <td>Johnson</td>\n",
       "    </tr>\n",
       "    <tr>\n",
       "      <th>4</th>\n",
       "      <td>20.0</td>\n",
       "      <td>David</td>\n",
       "      <td>M</td>\n",
       "      <td>4</td>\n",
       "      <td>Moore</td>\n",
       "    </tr>\n",
       "  </tbody>\n",
       "</table>\n",
       "</div>"
      ],
      "text/plain": [
       "    age first_name gender  id last_name\n",
       "0  48.0   Nicholas      M   0    Flores\n",
       "1   NaN    Jeffery      M   1      Rowe\n",
       "2  57.0     Alexis      F   2    Benton\n",
       "3  73.0        Amy      F   3   Johnson\n",
       "4  20.0      David      M   4     Moore"
      ]
     },
     "execution_count": 2,
     "metadata": {},
     "output_type": "execute_result"
    }
   ],
   "source": [
    "customer_df.head() "
   ]
  },
  {
   "cell_type": "markdown",
   "id": "b0b75965-df6d-434e-873c-174c62ea75a9",
   "metadata": {},
   "source": [
    "EASY 1. How many unique customers are in the dataset?"
   ]
  },
  {
   "cell_type": "code",
   "execution_count": 3,
   "id": "a036aa54-cbf8-49f1-9aca-2dd589d7e0a6",
   "metadata": {},
   "outputs": [
    {
     "name": "stdout",
     "output_type": "stream",
     "text": [
      "5191\n"
     ]
    }
   ],
   "source": [
    "customers = invoice_df['customer_id']\n",
    "\n",
    "print(customers.nunique())"
   ]
  },
  {
   "cell_type": "markdown",
   "id": "f8f52640-0df1-42fa-b2b5-c73f4c223b83",
   "metadata": {},
   "source": [
    "2. What are the different categories of products available? How many unique categories are there?"
   ]
  },
  {
   "cell_type": "code",
   "execution_count": 4,
   "id": "aa889bf7-c711-4c9b-9618-d77a3c203c83",
   "metadata": {},
   "outputs": [
    {
     "name": "stdout",
     "output_type": "stream",
     "text": [
      "['Clothing' 'Shoes' 'Books' 'Cosmetics' 'Food & Beverage' 'Toys'\n",
      " 'Technology' 'Souvenir']\n",
      "8\n"
     ]
    }
   ],
   "source": [
    "categories = invoice_df['category']\n",
    "\n",
    "print(categories.unique())\n",
    "print(categories.nunique())"
   ]
  },
  {
   "cell_type": "markdown",
   "id": "49e4b749-086e-4cb6-8746-4fbefd81807a",
   "metadata": {},
   "source": [
    "3. Which payment method is the most popular? How many times was it used?"
   ]
  },
  {
   "cell_type": "code",
   "execution_count": 5,
   "id": "153a0148-24fa-48a4-b5c2-65054dd5c6a0",
   "metadata": {},
   "outputs": [
    {
     "name": "stdout",
     "output_type": "stream",
     "text": [
      "Cash    44447\n",
      "Name: payment_method, dtype: int64\n"
     ]
    }
   ],
   "source": [
    "payment = invoice_df['payment_method'].value_counts().nlargest(1)\n",
    "\n",
    "print(payment)"
   ]
  },
  {
   "cell_type": "markdown",
   "id": "9844ac54-6c58-44de-8eff-2a52b849ee14",
   "metadata": {},
   "source": [
    "MEDIUM 1. What are the three most popular categories, by total sales?"
   ]
  },
  {
   "cell_type": "code",
   "execution_count": 6,
   "id": "08c134cb-3163-4470-8045-4ea1bb9cd1f8",
   "metadata": {},
   "outputs": [
    {
     "name": "stdout",
     "output_type": "stream",
     "text": [
      "category\n",
      "Clothing      1.139968e+08\n",
      "Shoes         6.655345e+07\n",
      "Technology    5.786235e+07\n",
      "Name: sales, dtype: float64\n"
     ]
    }
   ],
   "source": [
    "invoice_df['sales'] = invoice_df['price'] * invoice_df['quantity']\n",
    "#get sales for each row\n",
    "\n",
    "total_sales = invoice_df.groupby('category')['sales'].sum().nlargest(3)\n",
    "#get total sales for each category and get top 3 categories\n",
    "\n",
    "print(total_sales)"
   ]
  },
  {
   "cell_type": "markdown",
   "id": "bc632b8a-3525-44ed-886f-abc92e70264a",
   "metadata": {},
   "source": [
    "2. What are the total sales attributed to customers over the age of 45?"
   ]
  },
  {
   "cell_type": "code",
   "execution_count": 7,
   "id": "e09f2364-d77f-4a21-9c7f-e8d0c272a798",
   "metadata": {},
   "outputs": [
    {
     "name": "stdout",
     "output_type": "stream",
     "text": [
      "82039768.15\n"
     ]
    }
   ],
   "source": [
    "filtered_customer_df = customer_df.loc[customer_df['age'] > 45]  \n",
    "#filter customer_df based on the condition\n",
    "\n",
    "merged_df = pd.merge(invoice_df, filtered_customer_df, left_on='customer_id', right_on='id', how='inner')  \n",
    "#join two dfs \n",
    "\n",
    "total_sales = merged_df['sales'].sum()  \n",
    "\n",
    "print(total_sales)\n"
   ]
  },
  {
   "cell_type": "markdown",
   "id": "891c7c58-1152-4217-9865-7101eead98df",
   "metadata": {},
   "source": [
    "3. How is the data distributed across different invoice dates? Are there any seasonal trends or patterns? (Use a graph for this.)"
   ]
  },
  {
   "cell_type": "code",
   "execution_count": 8,
   "id": "a833c8f2-04d2-4333-9f9c-5ef87c05c890",
   "metadata": {},
   "outputs": [
    {
     "name": "stderr",
     "output_type": "stream",
     "text": [
      "C:\\Users\\Annika\\AppData\\Local\\Temp\\ipykernel_9616\\1084879577.py:3: UserWarning: Parsing dates in DD/MM/YYYY format when dayfirst=False (the default) was specified. This may lead to inconsistently parsed dates! Specify a format to ensure consistent parsing.\n",
      "  invoice_df['invoice_date'] = pd.to_datetime(invoice_df['invoice_date'])\n"
     ]
    },
    {
     "data": {
      "image/png": "[encoded data removed]",
      "text/plain": [
       "<Figure size 640x480 with 1 Axes>"
      ]
     },
     "metadata": {},
     "output_type": "display_data"
    }
   ],
   "source": [
    "import matplotlib.pyplot as plt\n",
    "\n",
    "invoice_df['invoice_date'] = pd.to_datetime(invoice_df['invoice_date'])\n",
    "#convert 'invoice_date' column to datetime format\n",
    "invoice_df['month_year'] = invoice_df['invoice_date'].dt.to_period('M')\n",
    "#extract month and year from 'invoice_date' column\n",
    "monthly_counts = invoice_df['month_year'].value_counts().sort_index()\n",
    "#count number of invoices for each month\n",
    "\n",
    "monthly_counts.plot(kind='line', marker='o')\n",
    "plt.title('Distribution of Data Across Different Invoice Dates')\n",
    "plt.xlabel('Month and Year')\n",
    "plt.ylabel('Data')\n",
    "plt.grid(True)\n",
    "plt.show()"
   ]
  },
  {
   "cell_type": "markdown",
   "id": "15c00e36-c268-4fc3-aa1b-5e56f7246e43",
   "metadata": {},
   "source": [
    "HARD 1. Create a pivot table showing the breakdown of sales across these dimensions, in this order: category, decade age range (e.g., 10-19, 20-29, and so forth)."
   ]
  },
  {
   "cell_type": "code",
   "execution_count": 9,
   "id": "c2070b4a-9276-4b1c-9ed1-783461187829",
   "metadata": {},
   "outputs": [
    {
     "name": "stdout",
     "output_type": "stream",
     "text": [
      "decade            [10, 20)    [20, 30)    [30, 40)    [40, 50)    [50, 60)  \\\n",
      "category                                                                     \n",
      "Books              3469.35    21619.05    22997.70    23361.30    20664.60   \n",
      "Clothing         518238.16  2818351.36  3074919.76  3066817.60  2803647.44   \n",
      "Cosmetics         29681.80   165079.60   198054.86   181343.60   160932.28   \n",
      "Food & Beverage    3645.31    20428.38    23744.20    24460.71    19999.52   \n",
      "Shoes            274277.69  1630061.72  1912141.62  1889335.16  1591650.84   \n",
      "Souvenir           3296.13    15295.92    17548.08    17759.22    15084.78   \n",
      "Technology       287700.00  1426950.00  1669500.00  1630650.00  1220100.00   \n",
      "Toys              17203.20   102466.56   115297.28   106910.72    94115.84   \n",
      "\n",
      "decade             [60, 70)    [70, 80)    [80, 90)  [90, 100)  \n",
      "category                                                        \n",
      "Books              21513.00    15437.85     7575.00        0.0  \n",
      "Clothing         2910776.00  2117064.40  1228827.60        0.0  \n",
      "Cosmetics         176627.04   114132.62    71236.32        0.0  \n",
      "Food & Beverage    22190.89    14968.26     8561.51        0.0  \n",
      "Shoes            1618058.32  1210542.89   708200.60        0.0  \n",
      "Souvenir           15331.11    10592.19     6545.34        0.0  \n",
      "Technology       1529850.00   977550.00   548100.00        0.0  \n",
      "Toys              100244.48    74475.52    43043.84        0.0  \n"
     ]
    }
   ],
   "source": [
    "combined_df = pd.merge(customer_df, invoice_df, left_on='id', right_on='customer_id')\n",
    "#merge age and sales data based on customer_id column\n",
    "\n",
    "combined_df['decade'] = pd.cut(combined_df['age'], bins=range(10, 101, 10), right=False)\n",
    "#create new column for decade age range\n",
    "\n",
    "pivot_table = pd.pivot_table(combined_df, values='price', index='category', columns='decade', aggfunc='sum')\n",
    "#pivot table showing breakdown of sales by category and decade age range\n",
    "\n",
    "print(pivot_table)"
   ]
  },
  {
   "cell_type": "code",
   "execution_count": null,
   "id": "9c772aa7-19e6-4a75-b89b-10bbe4a1d533",
   "metadata": {},
   "outputs": [],
   "source": []
  }
 ],
 "metadata": {
  "kernelspec": {
   "display_name": "Python 3 (ipykernel)",
   "language": "python",
   "name": "python3"
  },
  "language_info": {
   "codemirror_mode": {
    "name": "ipython",
    "version": 3
   },
   "file_extension": ".py",
   "mimetype": "text/x-python",
   "name": "python",
   "nbconvert_exporter": "python",
   "pygments_lexer": "ipython3",
   "version": "3.10.9"
  }
 },
 "nbformat": 4,
 "nbformat_minor": 5
}
